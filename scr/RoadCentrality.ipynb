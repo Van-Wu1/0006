{
 "cells": [
  {
   "cell_type": "code",
   "execution_count": 1,
   "metadata": {},
   "outputs": [],
   "source": [
    "import os\n",
    "import osmnx as ox\n",
    "import networkx as nx\n",
    "import geopandas as gpd\n",
    "import pandas as pd\n",
    "from tqdm import tqdm"
   ]
  },
  {
   "cell_type": "code",
   "execution_count": 22,
   "metadata": {},
   "outputs": [
    {
     "name": "stdout",
     "output_type": "stream",
     "text": [
      "                   borough   gss_code  \\\n",
      "0     Kingston upon Thames  E09000021   \n",
      "1                  Croydon  E09000008   \n",
      "2                  Bromley  E09000006   \n",
      "3                 Hounslow  E09000018   \n",
      "4                   Ealing  E09000009   \n",
      "5                 Havering  E09000016   \n",
      "6               Hillingdon  E09000017   \n",
      "7                   Harrow  E09000015   \n",
      "8                    Brent  E09000005   \n",
      "9                   Barnet  E09000003   \n",
      "10                 Lambeth  E09000022   \n",
      "11               Southwark  E09000028   \n",
      "12                Lewisham  E09000023   \n",
      "13               Greenwich  E09000011   \n",
      "14                  Bexley  E09000004   \n",
      "15                 Enfield  E09000010   \n",
      "16          Waltham Forest  E09000031   \n",
      "17               Redbridge  E09000026   \n",
      "18                  Sutton  E09000029   \n",
      "19    Richmond upon Thames  E09000027   \n",
      "20                  Merton  E09000024   \n",
      "21              Wandsworth  E09000032   \n",
      "22  Hammersmith and Fulham  E09000013   \n",
      "23  Kensington and Chelsea  E09000020   \n",
      "24             Westminster  E09000033   \n",
      "25                  Camden  E09000007   \n",
      "26           Tower Hamlets  E09000030   \n",
      "27               Islington  E09000019   \n",
      "28                 Hackney  E09000012   \n",
      "29                Haringey  E09000014   \n",
      "30                  Newham  E09000025   \n",
      "31    Barking and Dagenham  E09000002   \n",
      "32          City of London  E09000001   \n",
      "\n",
      "                                             geometry  \n",
      "0   POLYGON ((-0.33066 51.32901, -0.33057 51.32909...  \n",
      "1   POLYGON ((-0.06399 51.31864, -0.06405 51.31861...  \n",
      "2   POLYGON ((0.01216 51.2996, 0.01199 51.29979, 0...  \n",
      "3   POLYGON ((-0.42208 51.46656, -0.42194 51.4666,...  \n",
      "4   POLYGON ((-0.33542 51.49621, -0.33598 51.49622...  \n",
      "5   POLYGON ((0.21055 51.49024, 0.21047 51.49003, ...  \n",
      "6   POLYGON ((-0.45864 51.45632, -0.45902 51.45648...  \n",
      "7   POLYGON ((-0.33131 51.56157, -0.3314 51.56153,...  \n",
      "8   POLYGON ((-0.33131 51.56157, -0.32994 51.56228...  \n",
      "9   POLYGON ((-0.30446 51.63635, -0.30443 51.63634...  \n",
      "10  POLYGON ((-0.07828 51.42061, -0.0783 51.42058,...  \n",
      "11  POLYGON ((-0.07828 51.42061, -0.07913 51.42082...  \n",
      "12  POLYGON ((-0.04613 51.45696, -0.04608 51.45712...  \n",
      "13  POLYGON ((-0.0131 51.46894, -0.01345 51.46877,...  \n",
      "14  POLYGON ((0.11888 51.41328, 0.11861 51.41326, ...  \n",
      "15  POLYGON ((-0.10578 51.69188, -0.10554 51.69187...  \n",
      "16  POLYGON ((0.01927 51.60822, 0.01933 51.60807, ...  \n",
      "17  POLYGON ((0.01927 51.60822, 0.01926 51.60824, ...  \n",
      "18  POLYGON ((-0.15654 51.32151, -0.15863 51.32398...  \n",
      "19  POLYGON ((-0.35162 51.40804, -0.35196 51.40821...  \n",
      "20  POLYGON ((-0.13429 51.39093, -0.13435 51.39089...  \n",
      "21  POLYGON ((-0.25407 51.43729, -0.25325 51.43763...  \n",
      "22  POLYGON ((-0.19745 51.46409, -0.19814 51.4641,...  \n",
      "23  POLYGON ((-0.19077 51.48317, -0.19084 51.48323...  \n",
      "24  POLYGON ((-0.1228 51.49454, -0.12286 51.49424,...  \n",
      "25  POLYGON ((-0.14239 51.56912, -0.14248 51.56902...  \n",
      "26  POLYGON ((-0.03001 51.49409, -0.03012 51.49467...  \n",
      "27  POLYGON ((-0.13837 51.55686, -0.13849 51.55701...  \n",
      "28  POLYGON ((-0.09764 51.57365, -0.09753 51.57368...  \n",
      "29  POLYGON ((-0.14239 51.56912, -0.14239 51.56928...  \n",
      "30  POLYGON ((0.02907 51.49609, 0.0278 51.49602, 0...  \n",
      "31  POLYGON ((0.09973 51.5119, 0.09976 51.51358, 0...  \n",
      "32  POLYGON ((-0.11158 51.51534, -0.11184 51.5158,...  \n",
      "Index(['borough', 'gss_code', 'geometry'], dtype='object')\n"
     ]
    }
   ],
   "source": [
    "# Step 1: 读取 Borough 边界数据\n",
    "# geojson_url = \"https://services.arcgis.com/OLiydejKCZTGhvWg/arcgis/rest/services/London_Boroughs/FeatureServer/0/query?where=1%3D1&outFields=*&outSR=4326&f=geojson\"\n",
    "# boroughs = gpd.read_file(geojson_url)\n",
    "\n",
    "# 替换为你本地下载后的 geojson 路径\n",
    "path = \"../data/Borough_Boundaries.geojson\"\n",
    "\n",
    "# 正确读取\n",
    "boroughs = gpd.read_file(path)\n",
    "\n",
    "# 保留 name 和 geometry 字段\n",
    "boroughs = boroughs[[\"name\", \"gss_code\", \"geometry\"]].rename(columns={\"name\": \"borough\"})\n",
    "\n",
    "print(boroughs)\n",
    "print(boroughs.columns)"
   ]
  },
  {
   "cell_type": "code",
   "execution_count": 23,
   "metadata": {},
   "outputs": [],
   "source": [
    "# Step 2: 设置 OSMnx 配置\n",
    "ox.settings.log_console = False\n",
    "ox.settings.use_cache = True"
   ]
  },
  {
   "cell_type": "code",
   "execution_count": 24,
   "metadata": {},
   "outputs": [],
   "source": [
    "# Step 3: 初始化结果列表\n",
    "results = []"
   ]
  },
  {
   "cell_type": "code",
   "execution_count": 25,
   "metadata": {},
   "outputs": [
    {
     "name": "stderr",
     "output_type": "stream",
     "text": [
      "Processing boroughs:   0%|          | 0/33 [00:00<?, ?it/s]"
     ]
    },
    {
     "name": "stdout",
     "output_type": "stream",
     "text": [
      "🚦 Processing: Kingston upon Thames\n"
     ]
    },
    {
     "name": "stderr",
     "output_type": "stream",
     "text": [
      "Processing boroughs:   0%|          | 0/33 [00:03<?, ?it/s]\n"
     ]
    },
    {
     "ename": "KeyboardInterrupt",
     "evalue": "",
     "output_type": "error",
     "traceback": [
      "\u001b[31m---------------------------------------------------------------------------\u001b[39m",
      "\u001b[31mKeyboardInterrupt\u001b[39m                         Traceback (most recent call last)",
      "\u001b[36mCell\u001b[39m\u001b[36m \u001b[39m\u001b[32mIn[25]\u001b[39m\u001b[32m, line 14\u001b[39m\n\u001b[32m     11\u001b[39m G = ox.graph_from_polygon(geometry, network_type=\u001b[33m\"\u001b[39m\u001b[33mdrive\u001b[39m\u001b[33m\"\u001b[39m, simplify=\u001b[38;5;28;01mTrue\u001b[39;00m)\n\u001b[32m     13\u001b[39m \u001b[38;5;66;03m# 4.2 计算节点中心性\u001b[39;00m\n\u001b[32m---> \u001b[39m\u001b[32m14\u001b[39m betweenness = \u001b[43mnx\u001b[49m\u001b[43m.\u001b[49m\u001b[43mbetweenness_centrality\u001b[49m\u001b[43m(\u001b[49m\u001b[43mG\u001b[49m\u001b[43m,\u001b[49m\u001b[43m \u001b[49m\u001b[43mweight\u001b[49m\u001b[43m=\u001b[49m\u001b[33;43m\"\u001b[39;49m\u001b[33;43mlength\u001b[39;49m\u001b[33;43m\"\u001b[39;49m\u001b[43m,\u001b[49m\u001b[43m \u001b[49m\u001b[43mk\u001b[49m\u001b[43m=\u001b[49m\u001b[32;43m100\u001b[39;49m\u001b[43m,\u001b[49m\u001b[43m \u001b[49m\u001b[43mseed\u001b[49m\u001b[43m=\u001b[49m\u001b[32;43m42\u001b[39;49m\u001b[43m)\u001b[49m\n\u001b[32m     15\u001b[39m degree = \u001b[38;5;28mdict\u001b[39m(G.degree())\n\u001b[32m     16\u001b[39m nx.set_node_attributes(G, betweenness, \u001b[33m\"\u001b[39m\u001b[33mbetweenness\u001b[39m\u001b[33m\"\u001b[39m)\n",
      "\u001b[36mFile \u001b[39m\u001b[32m<class 'networkx.utils.decorators.argmap'> compilation 27:4\u001b[39m, in \u001b[36margmap_betweenness_centrality_23\u001b[39m\u001b[34m(G, k, normalized, weight, endpoints, seed, backend, **backend_kwargs)\u001b[39m\n\u001b[32m      2\u001b[39m \u001b[38;5;28;01mimport\u001b[39;00m\u001b[38;5;250m \u001b[39m\u001b[34;01mcollections\u001b[39;00m\n\u001b[32m      3\u001b[39m \u001b[38;5;28;01mimport\u001b[39;00m\u001b[38;5;250m \u001b[39m\u001b[34;01mgzip\u001b[39;00m\n\u001b[32m----> \u001b[39m\u001b[32m4\u001b[39m \u001b[38;5;28;01mimport\u001b[39;00m\u001b[38;5;250m \u001b[39m\u001b[34;01minspect\u001b[39;00m\n\u001b[32m      5\u001b[39m \u001b[38;5;28;01mimport\u001b[39;00m\u001b[38;5;250m \u001b[39m\u001b[34;01mitertools\u001b[39;00m\n\u001b[32m      6\u001b[39m \u001b[38;5;28;01mimport\u001b[39;00m\u001b[38;5;250m \u001b[39m\u001b[34;01mre\u001b[39;00m\n",
      "\u001b[36mFile \u001b[39m\u001b[32me:\\Software\\Study\\python-3.13.2\\Lib\\site-packages\\networkx\\utils\\backends.py:967\u001b[39m, in \u001b[36m_dispatchable.__call__\u001b[39m\u001b[34m(self, backend, *args, **kwargs)\u001b[39m\n\u001b[32m    965\u001b[39m     \u001b[38;5;28;01mif\u001b[39;00m backend \u001b[38;5;129;01mis\u001b[39;00m \u001b[38;5;129;01mnot\u001b[39;00m \u001b[38;5;28;01mNone\u001b[39;00m \u001b[38;5;129;01mand\u001b[39;00m backend != \u001b[33m\"\u001b[39m\u001b[33mnetworkx\u001b[39m\u001b[33m\"\u001b[39m:\n\u001b[32m    966\u001b[39m         \u001b[38;5;28;01mraise\u001b[39;00m \u001b[38;5;167;01mImportError\u001b[39;00m(\u001b[33mf\u001b[39m\u001b[33m\"\u001b[39m\u001b[33m'\u001b[39m\u001b[38;5;132;01m{\u001b[39;00mbackend\u001b[38;5;132;01m}\u001b[39;00m\u001b[33m'\u001b[39m\u001b[33m backend is not installed\u001b[39m\u001b[33m\"\u001b[39m)\n\u001b[32m--> \u001b[39m\u001b[32m967\u001b[39m     \u001b[38;5;28;01mreturn\u001b[39;00m \u001b[38;5;28;43mself\u001b[39;49m\u001b[43m.\u001b[49m\u001b[43morig_func\u001b[49m\u001b[43m(\u001b[49m\u001b[43m*\u001b[49m\u001b[43margs\u001b[49m\u001b[43m,\u001b[49m\u001b[43m \u001b[49m\u001b[43m*\u001b[49m\u001b[43m*\u001b[49m\u001b[43mkwargs\u001b[49m\u001b[43m)\u001b[49m\n\u001b[32m    969\u001b[39m \u001b[38;5;66;03m# Use `backend_name` in this function instead of `backend`.\u001b[39;00m\n\u001b[32m    970\u001b[39m \u001b[38;5;66;03m# This is purely for aesthetics and to make it easier to search for this\u001b[39;00m\n\u001b[32m    971\u001b[39m \u001b[38;5;66;03m# variable since \"backend\" is used in many comments and log/error messages.\u001b[39;00m\n\u001b[32m    972\u001b[39m backend_name = backend\n",
      "\u001b[36mFile \u001b[39m\u001b[32me:\\Software\\Study\\python-3.13.2\\Lib\\site-packages\\networkx\\algorithms\\centrality\\betweenness.py:139\u001b[39m, in \u001b[36mbetweenness_centrality\u001b[39m\u001b[34m(G, k, normalized, weight, endpoints, seed)\u001b[39m\n\u001b[32m    137\u001b[39m     S, P, sigma, _ = _single_source_shortest_path_basic(G, s)\n\u001b[32m    138\u001b[39m \u001b[38;5;28;01melse\u001b[39;00m:  \u001b[38;5;66;03m# use Dijkstra's algorithm\u001b[39;00m\n\u001b[32m--> \u001b[39m\u001b[32m139\u001b[39m     S, P, sigma, _ = \u001b[43m_single_source_dijkstra_path_basic\u001b[49m\u001b[43m(\u001b[49m\u001b[43mG\u001b[49m\u001b[43m,\u001b[49m\u001b[43m \u001b[49m\u001b[43ms\u001b[49m\u001b[43m,\u001b[49m\u001b[43m \u001b[49m\u001b[43mweight\u001b[49m\u001b[43m)\u001b[49m\n\u001b[32m    140\u001b[39m \u001b[38;5;66;03m# accumulation\u001b[39;00m\n\u001b[32m    141\u001b[39m \u001b[38;5;28;01mif\u001b[39;00m endpoints:\n",
      "\u001b[36mFile \u001b[39m\u001b[32me:\\Software\\Study\\python-3.13.2\\Lib\\site-packages\\networkx\\algorithms\\centrality\\betweenness.py:305\u001b[39m, in \u001b[36m_single_source_dijkstra_path_basic\u001b[39m\u001b[34m(G, s, weight)\u001b[39m\n\u001b[32m    303\u001b[39m D[v] = dist\n\u001b[32m    304\u001b[39m \u001b[38;5;28;01mfor\u001b[39;00m w, edgedata \u001b[38;5;129;01min\u001b[39;00m G[v].items():\n\u001b[32m--> \u001b[39m\u001b[32m305\u001b[39m     vw_dist = dist + \u001b[43mweight\u001b[49m\u001b[43m(\u001b[49m\u001b[43mv\u001b[49m\u001b[43m,\u001b[49m\u001b[43m \u001b[49m\u001b[43mw\u001b[49m\u001b[43m,\u001b[49m\u001b[43m \u001b[49m\u001b[43medgedata\u001b[49m\u001b[43m)\u001b[49m\n\u001b[32m    306\u001b[39m     \u001b[38;5;28;01mif\u001b[39;00m w \u001b[38;5;129;01mnot\u001b[39;00m \u001b[38;5;129;01min\u001b[39;00m D \u001b[38;5;129;01mand\u001b[39;00m (w \u001b[38;5;129;01mnot\u001b[39;00m \u001b[38;5;129;01min\u001b[39;00m seen \u001b[38;5;129;01mor\u001b[39;00m vw_dist < seen[w]):\n\u001b[32m    307\u001b[39m         seen[w] = vw_dist\n",
      "\u001b[36mFile \u001b[39m\u001b[32me:\\Software\\Study\\python-3.13.2\\Lib\\site-packages\\networkx\\algorithms\\shortest_paths\\weighted.py:77\u001b[39m, in \u001b[36m_weight_function.<locals>.<lambda>\u001b[39m\u001b[34m(u, v, d)\u001b[39m\n\u001b[32m     73\u001b[39m \u001b[38;5;66;03m# If the weight keyword argument is not callable, we assume it is a\u001b[39;00m\n\u001b[32m     74\u001b[39m \u001b[38;5;66;03m# string representing the edge attribute containing the weight of\u001b[39;00m\n\u001b[32m     75\u001b[39m \u001b[38;5;66;03m# the edge.\u001b[39;00m\n\u001b[32m     76\u001b[39m \u001b[38;5;28;01mif\u001b[39;00m G.is_multigraph():\n\u001b[32m---> \u001b[39m\u001b[32m77\u001b[39m     \u001b[38;5;28;01mreturn\u001b[39;00m \u001b[38;5;28;01mlambda\u001b[39;00m u, v, d: \u001b[38;5;28;43mmin\u001b[39;49m\u001b[43m(\u001b[49m\u001b[43mattr\u001b[49m\u001b[43m.\u001b[49m\u001b[43mget\u001b[49m\u001b[43m(\u001b[49m\u001b[43mweight\u001b[49m\u001b[43m,\u001b[49m\u001b[43m \u001b[49m\u001b[32;43m1\u001b[39;49m\u001b[43m)\u001b[49m\u001b[43m \u001b[49m\u001b[38;5;28;43;01mfor\u001b[39;49;00m\u001b[43m \u001b[49m\u001b[43mattr\u001b[49m\u001b[43m \u001b[49m\u001b[38;5;129;43;01min\u001b[39;49;00m\u001b[43m \u001b[49m\u001b[43md\u001b[49m\u001b[43m.\u001b[49m\u001b[43mvalues\u001b[49m\u001b[43m(\u001b[49m\u001b[43m)\u001b[49m\u001b[43m)\u001b[49m\n\u001b[32m     78\u001b[39m \u001b[38;5;28;01mreturn\u001b[39;00m \u001b[38;5;28;01mlambda\u001b[39;00m u, v, data: data.get(weight, \u001b[32m1\u001b[39m)\n",
      "\u001b[36mFile \u001b[39m\u001b[32me:\\Software\\Study\\python-3.13.2\\Lib\\site-packages\\networkx\\algorithms\\shortest_paths\\weighted.py:77\u001b[39m, in \u001b[36m<genexpr>\u001b[39m\u001b[34m(.0)\u001b[39m\n\u001b[32m     73\u001b[39m \u001b[38;5;66;03m# If the weight keyword argument is not callable, we assume it is a\u001b[39;00m\n\u001b[32m     74\u001b[39m \u001b[38;5;66;03m# string representing the edge attribute containing the weight of\u001b[39;00m\n\u001b[32m     75\u001b[39m \u001b[38;5;66;03m# the edge.\u001b[39;00m\n\u001b[32m     76\u001b[39m \u001b[38;5;28;01mif\u001b[39;00m G.is_multigraph():\n\u001b[32m---> \u001b[39m\u001b[32m77\u001b[39m     \u001b[38;5;28;01mreturn\u001b[39;00m \u001b[38;5;28;01mlambda\u001b[39;00m u, v, d: \u001b[38;5;28mmin\u001b[39m(attr.get(weight, \u001b[32m1\u001b[39m) \u001b[38;5;28;01mfor\u001b[39;00m attr \u001b[38;5;129;01min\u001b[39;00m d.values())\n\u001b[32m     78\u001b[39m \u001b[38;5;28;01mreturn\u001b[39;00m \u001b[38;5;28;01mlambda\u001b[39;00m u, v, data: data.get(weight, \u001b[32m1\u001b[39m)\n",
      "\u001b[31mKeyboardInterrupt\u001b[39m: "
     ]
    }
   ],
   "source": [
    "# Step 4: 遍历每个 Borough，获取道路网络并计算中心性指标\n",
    "for idx, row in tqdm(boroughs.iterrows(), total=len(boroughs), desc=\"Processing boroughs\"):\n",
    "    borough_name = row[\"borough\"]\n",
    "    gss_name = row[\"gss_code\"]\n",
    "    geometry = row[\"geometry\"]\n",
    "\n",
    "    try:\n",
    "        print(f\"🚦 Processing: {borough_name}\")\n",
    "        \n",
    "        # 4.1 获取 borough 范围内的机动车路网\n",
    "        G = ox.graph_from_polygon(geometry, network_type=\"drive\", simplify=True)\n",
    "\n",
    "        # 4.2 计算节点中心性\n",
    "        betweenness = nx.betweenness_centrality(G, weight=\"length\", k=100, seed=42)\n",
    "        degree = dict(G.degree())\n",
    "        nx.set_node_attributes(G, betweenness, \"betweenness\")\n",
    "        nx.set_node_attributes(G, degree, \"degree\")\n",
    "\n",
    "        # 4.3 构造带 u-v 信息的边表\n",
    "        edge_data = []\n",
    "        for u, v, key, data in G.edges(keys=True, data=True):\n",
    "            edge_data.append({\n",
    "                \"u\": u,\n",
    "                \"v\": v,\n",
    "                \"key\": key,\n",
    "                \"geometry\": data.get(\"geometry\", None),\n",
    "                \"betweenness\": (G.nodes[u][\"betweenness\"] + G.nodes[v][\"betweenness\"]) / 2,\n",
    "                \"degree\": (G.nodes[u][\"degree\"] + G.nodes[v][\"degree\"]) / 2\n",
    "            })\n",
    "        edges_df = gpd.GeoDataFrame(edge_data, geometry=\"geometry\", crs=\"EPSG:4326\")\n",
    "\n",
    "        # 4.4 聚合结果\n",
    "        summary = {\n",
    "            \"borough\": borough_name,\n",
    "            \"gss_code\": gss_name,\n",
    "            \"mean_betweenness\": edges_df[\"betweenness\"].mean(),\n",
    "            \"max_betweenness\": edges_df[\"betweenness\"].max(),\n",
    "            \"mean_degree\": edges_df[\"degree\"].mean(),\n",
    "            \"max_degree\": edges_df[\"degree\"].max(),\n",
    "            \"edge_count\": len(edges_df)\n",
    "        }\n",
    "        results.append(summary)\n",
    "\n",
    "    except Exception as e:\n",
    "        print(f\"❌ Failed for {borough_name}: {e}\")\n",
    "        continue"
   ]
  },
  {
   "cell_type": "code",
   "execution_count": 6,
   "metadata": {},
   "outputs": [
    {
     "name": "stdout",
     "output_type": "stream",
     "text": [
      "All done! Results saved to 'london_borough_road_centrality.csv'\n"
     ]
    }
   ],
   "source": [
    "# Step 5: 保存结果为 CSV 文件\n",
    "df_results = pd.DataFrame(results)\n",
    "df_results.to_csv(\"london_borough_road_centrality.csv\", index=False)\n",
    "print(\"All done! Results saved to 'london_borough_road_centrality.csv'\")\n"
   ]
  },
  {
   "cell_type": "code",
   "execution_count": 7,
   "metadata": {},
   "outputs": [
    {
     "name": "stdout",
     "output_type": "stream",
     "text": [
      "                   borough  mean_betweenness  max_betweenness  mean_degree  \\\n",
      "0     Kingston upon Thames          0.020622         0.261008     5.271409   \n",
      "1                  Croydon          0.012210         0.177637     5.383993   \n",
      "2                  Bromley          0.012135         0.172504     5.425875   \n",
      "3                 Hounslow          0.018356         0.335207     5.247866   \n",
      "4                   Ealing          0.015021         0.212142     5.418720   \n",
      "5                 Havering          0.012923         0.179474     5.369130   \n",
      "6               Hillingdon          0.013128         0.331130     5.215237   \n",
      "7                   Harrow          0.016811         0.175713     5.383765   \n",
      "8                    Brent          0.016646         0.352244     5.400981   \n",
      "9                   Barnet          0.013282         0.203354     5.415900   \n",
      "10                 Lambeth          0.017742         0.284172     5.446247   \n",
      "11               Southwark          0.014075         0.219205     5.264451   \n",
      "12                Lewisham          0.016987         0.187589     5.490004   \n",
      "13               Greenwich          0.014089         0.297116     5.296916   \n",
      "14                  Bexley          0.013886         0.168791     5.326023   \n",
      "15                 Enfield          0.013071         0.113519     5.376250   \n",
      "16          Waltham Forest          0.020230         0.214271     5.367479   \n",
      "17               Redbridge          0.016465         0.250099     5.602621   \n",
      "18                  Sutton          0.015757         0.163844     5.483498   \n",
      "19    Richmond upon Thames          0.023119         0.406439     5.395047   \n",
      "20                  Merton          0.018195         0.319516     5.322515   \n",
      "21              Wandsworth          0.016563         0.197779     5.521429   \n",
      "22  Hammersmith and Fulham          0.027087         0.255317     5.505823   \n",
      "23  Kensington and Chelsea          0.026177         0.225520     5.318831   \n",
      "24             Westminster          0.015288         0.200517     5.119584   \n",
      "25                  Camden          0.020905         0.239020     5.229508   \n",
      "26           Tower Hamlets          0.017058         0.209154     5.185976   \n",
      "27               Islington          0.022862         0.328834     5.272834   \n",
      "28                 Hackney          0.021791         0.161617     5.288696   \n",
      "29                Haringey          0.019098         0.324942     5.390390   \n",
      "30                  Newham          0.015051         0.228828     5.218310   \n",
      "31    Barking and Dagenham          0.017059         0.302584     5.492543   \n",
      "32          City of London          0.038161         0.187189     4.583688   \n",
      "\n",
      "    max_degree  edge_count  \n",
      "0          8.0        6551  \n",
      "1          8.0       14719  \n",
      "2          8.0       15737  \n",
      "3          8.0       10308  \n",
      "4          8.0       10919  \n",
      "5          8.0       12031  \n",
      "6          8.0       14635  \n",
      "7          8.0        8771  \n",
      "8          9.0        9170  \n",
      "9          8.0       14465  \n",
      "10         8.0        8381  \n",
      "11         8.0        9480  \n",
      "12         8.0        9304  \n",
      "13         9.0       10993  \n",
      "14         8.0       10806  \n",
      "15         8.0       12699  \n",
      "16         8.0        8044  \n",
      "17         9.0        9920  \n",
      "18         8.0        8484  \n",
      "19         8.0        8318  \n",
      "20         8.0        7364  \n",
      "21         8.0        9543  \n",
      "22         8.0        4551  \n",
      "23         8.0        4551  \n",
      "24         8.0        7409  \n",
      "25         8.0        5429  \n",
      "26         8.0        7544  \n",
      "27         8.5        5113  \n",
      "28         8.0        5750  \n",
      "29         8.0        7326  \n",
      "30         8.0        9940  \n",
      "31         9.0        7242  \n",
      "32         8.0        1410  \n"
     ]
    }
   ],
   "source": [
    "print(df_results)"
   ]
  }
 ],
 "metadata": {
  "kernelspec": {
   "display_name": "Python 3",
   "language": "python",
   "name": "python3"
  },
  "language_info": {
   "codemirror_mode": {
    "name": "ipython",
    "version": 3
   },
   "file_extension": ".py",
   "mimetype": "text/x-python",
   "name": "python",
   "nbconvert_exporter": "python",
   "pygments_lexer": "ipython3",
   "version": "3.13.2"
  }
 },
 "nbformat": 4,
 "nbformat_minor": 2
}
