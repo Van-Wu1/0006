{
 "cells": [
  {
   "cell_type": "code",
   "execution_count": 1,
   "metadata": {},
   "outputs": [],
   "source": [
    "import pandas as pd\n",
    "from sklearn.ensemble import RandomForestClassifier\n",
    "from sklearn.metrics import classification_report\n",
    "import os"
   ]
  },
  {
   "cell_type": "markdown",
   "metadata": {},
   "source": [
    "### 制造train和test"
   ]
  },
  {
   "cell_type": "code",
   "execution_count": 6,
   "metadata": {},
   "outputs": [
    {
     "name": "stderr",
     "output_type": "stream",
     "text": [
      "C:\\Users\\Lenovo\\AppData\\Local\\Temp\\ipykernel_19116\\2728778062.py:2: DtypeWarning: Columns (0) have mixed types. Specify dtype option on import or set low_memory=False.\n",
      "  df_2021 = pd.read_csv('../data/clean/2021_cleaned.csv')\n",
      "C:\\Users\\Lenovo\\AppData\\Local\\Temp\\ipykernel_19116\\2728778062.py:3: DtypeWarning: Columns (0) have mixed types. Specify dtype option on import or set low_memory=False.\n",
      "  df_2022 = pd.read_csv('../data/clean/2022_cleaned.csv')\n",
      "C:\\Users\\Lenovo\\AppData\\Local\\Temp\\ipykernel_19116\\2728778062.py:4: DtypeWarning: Columns (0) have mixed types. Specify dtype option on import or set low_memory=False.\n",
      "  df_2023 = pd.read_csv('../data/clean/2023_cleaned.csv')\n"
     ]
    }
   ],
   "source": [
    "df_2020 = pd.read_csv('../data/clean/2020_cleaned.csv')\n",
    "df_2021 = pd.read_csv('../data/clean/2021_cleaned.csv')\n",
    "df_2022 = pd.read_csv('../data/clean/2022_cleaned.csv')\n",
    "df_2023 = pd.read_csv('../data/clean/2023_cleaned.csv')\n",
    "df_2024 = pd.read_csv('../data/clean/2024_cleaned.csv')\n",
    "\n",
    "train_A = pd.concat([df_2020, df_2021, df_2022], ignore_index=True)\n",
    "test_A = df_2023.copy()\n",
    "\n",
    "train_B = pd.concat([df_2021, df_2022, df_2023], ignore_index=True)\n",
    "test_B = df_2020.copy()"
   ]
  },
  {
   "cell_type": "markdown",
   "metadata": {},
   "source": [
    "### 删除含有缺失值的行（后期做分类变量填众数，数值填中位数）"
   ]
  },
  {
   "cell_type": "code",
   "execution_count": 3,
   "metadata": {},
   "outputs": [],
   "source": [
    "def preprocess(df):\n",
    "    df = df.drop(columns=['accident_index', 'date', 'time'], errors='ignore')\n",
    "    df = df.dropna()\n",
    "    return df\n",
    "\n",
    "train_A = preprocess(train_A)\n",
    "test_A = preprocess(test_A)\n",
    "train_B = preprocess(train_B)\n",
    "test_B = preprocess(test_B)"
   ]
  },
  {
   "cell_type": "markdown",
   "metadata": {},
   "source": [
    "### 试一下（特征工程 & 模型训练"
   ]
  },
  {
   "cell_type": "markdown",
   "metadata": {},
   "source": [
    "输出结果包含：\n",
    "precision（精确率），recall（召回率），f1-score，support（每个类的样本数）"
   ]
  },
  {
   "cell_type": "code",
   "execution_count": null,
   "metadata": {},
   "outputs": [
    {
     "name": "stdout",
     "output_type": "stream",
     "text": [
      "\n",
      "📊 模型A：2020-2022训练，2023测试 评估结果：\n",
      "              precision    recall  f1-score   support\n",
      "\n",
      "           1       0.97      0.62      0.76      1522\n",
      "           2       0.95      0.64      0.77     23434\n",
      "           3       0.90      0.99      0.94     79290\n",
      "\n",
      "    accuracy                           0.91    104246\n",
      "   macro avg       0.94      0.75      0.82    104246\n",
      "weighted avg       0.91      0.91      0.90    104246\n",
      "\n",
      "\n",
      "📊 模型B：2021-2023训练，2020测试 评估结果：\n",
      "              precision    recall  f1-score   support\n",
      "\n",
      "           1       0.98      0.52      0.68      1391\n",
      "           2       0.93      0.56      0.70     18353\n",
      "           3       0.89      0.99      0.94     71441\n",
      "\n",
      "    accuracy                           0.90     91185\n",
      "   macro avg       0.93      0.69      0.77     91185\n",
      "weighted avg       0.90      0.90      0.88     91185\n",
      "\n"
     ]
    }
   ],
   "source": [
    "def train_and_evaluate(train_df, test_df, name='Model'):\n",
    "    X_train = train_df.drop('accident_severity', axis=1)\n",
    "    y_train = train_df['accident_severity']\n",
    "    X_test = test_df.drop('accident_severity', axis=1)\n",
    "    y_test = test_df['accident_severity']\n",
    "\n",
    "    model = RandomForestClassifier(n_estimators=100, random_state=42)\n",
    "    model.fit(X_train, y_train)\n",
    "    y_pred = model.predict(X_test)\n",
    "\n",
    "    print(f\"\\n📊 {name} 评估结果：\")\n",
    "    print(classification_report(y_test, y_pred))\n",
    "\n",
    "train_and_evaluate(train_A, test_A, name='模型A：2020-2022训练，2023测试')\n",
    "train_and_evaluate(train_B, test_B, name='模型B：2021-2023训练，2020测试')"
   ]
  },
  {
   "cell_type": "code",
   "execution_count": 7,
   "metadata": {},
   "outputs": [],
   "source": [
    "train_C = pd.concat([df_2020, df_2021, df_2022, df_2023], ignore_index=True)\n",
    "test_C = df_2024.copy()\n",
    "\n",
    "train_C = preprocess(train_C)\n",
    "test_C = preprocess(test_C)"
   ]
  },
  {
   "cell_type": "code",
   "execution_count": 11,
   "metadata": {},
   "outputs": [
    {
     "name": "stdout",
     "output_type": "stream",
     "text": [
      "over\n",
      "        accident_year  longitude   latitude  accident_severity  day_of_week  \\\n",
      "0                2020  -0.254001  51.462262                  3            3   \n",
      "1                2020  -0.139253  51.470327                  3            2   \n",
      "2                2020  -0.178719  51.529614                  3            4   \n",
      "3                2020  -0.001683  51.541210                  2            4   \n",
      "4                2020  -0.137592  51.515704                  3            4   \n",
      "...               ...        ...        ...                ...          ...   \n",
      "402543           2023  -4.447490  55.819059                  2            5   \n",
      "402544           2023  -4.752200  55.097920                  3            6   \n",
      "402545           2023  -2.276957  57.148422                  3            4   \n",
      "402546           2023  -4.047591  55.775637                  3            3   \n",
      "402547           2023  -3.163102  55.888350                  3            6   \n",
      "\n",
      "        local_authority_district  first_road_class  road_type  speed_limit  \\\n",
      "0                             10                 6          6           20   \n",
      "1                              9                 3          6           20   \n",
      "2                              1                 5          6           30   \n",
      "3                             17                 3          6           30   \n",
      "4                              1                 3          6           30   \n",
      "...                          ...               ...        ...          ...   \n",
      "402543                        -1                 6          6           30   \n",
      "402544                        -1                 6          6           60   \n",
      "402545                        -1                 6          6           30   \n",
      "402546                        -1                 6          6           20   \n",
      "402547                        -1                 3          6           50   \n",
      "\n",
      "        junction_detail  ...  pedestrian_crossing_human_control  \\\n",
      "0                     0  ...                                  9   \n",
      "1                     9  ...                                  0   \n",
      "2                     3  ...                                  0   \n",
      "3                     0  ...                                  0   \n",
      "4                     3  ...                                  0   \n",
      "...                 ...  ...                                ...   \n",
      "402543                0  ...                                 -1   \n",
      "402544                9  ...                                  0   \n",
      "402545                0  ...                                 -1   \n",
      "402546                9  ...                                 -1   \n",
      "402547                1  ...                                  0   \n",
      "\n",
      "        pedestrian_crossing_physical_facilities  light_conditions  \\\n",
      "0                                             9                 1   \n",
      "1                                             4                 1   \n",
      "2                                             0                 4   \n",
      "3                                             4                 4   \n",
      "4                                             0                 4   \n",
      "...                                         ...               ...   \n",
      "402543                                       -1                 5   \n",
      "402544                                        0                 1   \n",
      "402545                                       -1                 4   \n",
      "402546                                       -1                 4   \n",
      "402547                                        0                 1   \n",
      "\n",
      "        weather_conditions  road_surface_conditions  \\\n",
      "0                        9                        9   \n",
      "1                        1                        1   \n",
      "2                        1                        2   \n",
      "3                        1                        1   \n",
      "4                        1                        1   \n",
      "...                    ...                      ...   \n",
      "402543                   2                        2   \n",
      "402544                   9                        1   \n",
      "402545                   2                        2   \n",
      "402546                   8                        1   \n",
      "402547                   1                        1   \n",
      "\n",
      "        special_conditions_at_site  carriageway_hazards  urban_or_rural_area  \\\n",
      "0                                0                    0                    1   \n",
      "1                                0                    0                    1   \n",
      "2                                0                    0                    1   \n",
      "3                                0                    0                    1   \n",
      "4                                0                    0                    1   \n",
      "...                            ...                  ...                  ...   \n",
      "402543                          -1                   -1                    1   \n",
      "402544                           0                    0                    2   \n",
      "402545                          -1                   -1                    1   \n",
      "402546                          -1                   -1                    1   \n",
      "402547                           0                    0                    2   \n",
      "\n",
      "        trunk_road_flag  enhanced_severity_collision  \n",
      "0                     2                           -1  \n",
      "1                     2                           -1  \n",
      "2                     2                           -1  \n",
      "3                     2                           -1  \n",
      "4                     2                           -1  \n",
      "...                 ...                          ...  \n",
      "402543               -1                            7  \n",
      "402544               -1                            3  \n",
      "402545               -1                            3  \n",
      "402546               -1                            3  \n",
      "402547               -1                            3  \n",
      "\n",
      "[402483 rows x 22 columns]\n"
     ]
    }
   ],
   "source": [
    "import pandas as pd\n",
    "\n",
    "train_C = train_C.rename(columns={'legacy_collision_severity': 'accident_severity'})\n",
    "test_C = test_C.rename(columns={'legacy_collision_severity': 'accident_severity'})\n",
    "\n",
    "print(\"over\")\n",
    "print(train_C)"
   ]
  },
  {
   "cell_type": "code",
   "execution_count": 12,
   "metadata": {},
   "outputs": [
    {
     "ename": "KeyError",
     "evalue": "\"['accident_severity'] not found in axis\"",
     "output_type": "error",
     "traceback": [
      "\u001b[31m---------------------------------------------------------------------------\u001b[39m",
      "\u001b[31mKeyError\u001b[39m                                  Traceback (most recent call last)",
      "\u001b[36mCell\u001b[39m\u001b[36m \u001b[39m\u001b[32mIn[12]\u001b[39m\u001b[32m, line 1\u001b[39m\n\u001b[32m----> \u001b[39m\u001b[32m1\u001b[39m \u001b[43mtrain_and_evaluate\u001b[49m\u001b[43m(\u001b[49m\u001b[43mtrain_C\u001b[49m\u001b[43m,\u001b[49m\u001b[43m \u001b[49m\u001b[43mtest_C\u001b[49m\u001b[43m,\u001b[49m\u001b[43m \u001b[49m\u001b[43mname\u001b[49m\u001b[43m=\u001b[49m\u001b[33;43m'\u001b[39;49m\u001b[33;43m模型C：2020-2023训练，2024测试\u001b[39;49m\u001b[33;43m'\u001b[39;49m\u001b[43m)\u001b[49m\n",
      "\u001b[36mCell\u001b[39m\u001b[36m \u001b[39m\u001b[32mIn[4]\u001b[39m\u001b[32m, line 4\u001b[39m, in \u001b[36mtrain_and_evaluate\u001b[39m\u001b[34m(train_df, test_df, name)\u001b[39m\n\u001b[32m      2\u001b[39m X_train = train_df.drop(\u001b[33m'\u001b[39m\u001b[33maccident_severity\u001b[39m\u001b[33m'\u001b[39m, axis=\u001b[32m1\u001b[39m)\n\u001b[32m      3\u001b[39m y_train = train_df[\u001b[33m'\u001b[39m\u001b[33maccident_severity\u001b[39m\u001b[33m'\u001b[39m]\n\u001b[32m----> \u001b[39m\u001b[32m4\u001b[39m X_test = \u001b[43mtest_df\u001b[49m\u001b[43m.\u001b[49m\u001b[43mdrop\u001b[49m\u001b[43m(\u001b[49m\u001b[33;43m'\u001b[39;49m\u001b[33;43maccident_severity\u001b[39;49m\u001b[33;43m'\u001b[39;49m\u001b[43m,\u001b[49m\u001b[43m \u001b[49m\u001b[43maxis\u001b[49m\u001b[43m=\u001b[49m\u001b[32;43m1\u001b[39;49m\u001b[43m)\u001b[49m\n\u001b[32m      5\u001b[39m y_test = test_df[\u001b[33m'\u001b[39m\u001b[33maccident_severity\u001b[39m\u001b[33m'\u001b[39m]\n\u001b[32m      7\u001b[39m model = RandomForestClassifier(n_estimators=\u001b[32m100\u001b[39m, random_state=\u001b[32m42\u001b[39m)\n",
      "\u001b[36mFile \u001b[39m\u001b[32me:\\Software\\Study\\python-3.13.2\\Lib\\site-packages\\pandas\\core\\frame.py:5581\u001b[39m, in \u001b[36mDataFrame.drop\u001b[39m\u001b[34m(self, labels, axis, index, columns, level, inplace, errors)\u001b[39m\n\u001b[32m   5433\u001b[39m \u001b[38;5;28;01mdef\u001b[39;00m\u001b[38;5;250m \u001b[39m\u001b[34mdrop\u001b[39m(\n\u001b[32m   5434\u001b[39m     \u001b[38;5;28mself\u001b[39m,\n\u001b[32m   5435\u001b[39m     labels: IndexLabel | \u001b[38;5;28;01mNone\u001b[39;00m = \u001b[38;5;28;01mNone\u001b[39;00m,\n\u001b[32m   (...)\u001b[39m\u001b[32m   5442\u001b[39m     errors: IgnoreRaise = \u001b[33m\"\u001b[39m\u001b[33mraise\u001b[39m\u001b[33m\"\u001b[39m,\n\u001b[32m   5443\u001b[39m ) -> DataFrame | \u001b[38;5;28;01mNone\u001b[39;00m:\n\u001b[32m   5444\u001b[39m \u001b[38;5;250m    \u001b[39m\u001b[33;03m\"\"\"\u001b[39;00m\n\u001b[32m   5445\u001b[39m \u001b[33;03m    Drop specified labels from rows or columns.\u001b[39;00m\n\u001b[32m   5446\u001b[39m \n\u001b[32m   (...)\u001b[39m\u001b[32m   5579\u001b[39m \u001b[33;03m            weight  1.0     0.8\u001b[39;00m\n\u001b[32m   5580\u001b[39m \u001b[33;03m    \"\"\"\u001b[39;00m\n\u001b[32m-> \u001b[39m\u001b[32m5581\u001b[39m     \u001b[38;5;28;01mreturn\u001b[39;00m \u001b[38;5;28;43msuper\u001b[39;49m\u001b[43m(\u001b[49m\u001b[43m)\u001b[49m\u001b[43m.\u001b[49m\u001b[43mdrop\u001b[49m\u001b[43m(\u001b[49m\n\u001b[32m   5582\u001b[39m \u001b[43m        \u001b[49m\u001b[43mlabels\u001b[49m\u001b[43m=\u001b[49m\u001b[43mlabels\u001b[49m\u001b[43m,\u001b[49m\n\u001b[32m   5583\u001b[39m \u001b[43m        \u001b[49m\u001b[43maxis\u001b[49m\u001b[43m=\u001b[49m\u001b[43maxis\u001b[49m\u001b[43m,\u001b[49m\n\u001b[32m   5584\u001b[39m \u001b[43m        \u001b[49m\u001b[43mindex\u001b[49m\u001b[43m=\u001b[49m\u001b[43mindex\u001b[49m\u001b[43m,\u001b[49m\n\u001b[32m   5585\u001b[39m \u001b[43m        \u001b[49m\u001b[43mcolumns\u001b[49m\u001b[43m=\u001b[49m\u001b[43mcolumns\u001b[49m\u001b[43m,\u001b[49m\n\u001b[32m   5586\u001b[39m \u001b[43m        \u001b[49m\u001b[43mlevel\u001b[49m\u001b[43m=\u001b[49m\u001b[43mlevel\u001b[49m\u001b[43m,\u001b[49m\n\u001b[32m   5587\u001b[39m \u001b[43m        \u001b[49m\u001b[43minplace\u001b[49m\u001b[43m=\u001b[49m\u001b[43minplace\u001b[49m\u001b[43m,\u001b[49m\n\u001b[32m   5588\u001b[39m \u001b[43m        \u001b[49m\u001b[43merrors\u001b[49m\u001b[43m=\u001b[49m\u001b[43merrors\u001b[49m\u001b[43m,\u001b[49m\n\u001b[32m   5589\u001b[39m \u001b[43m    \u001b[49m\u001b[43m)\u001b[49m\n",
      "\u001b[36mFile \u001b[39m\u001b[32me:\\Software\\Study\\python-3.13.2\\Lib\\site-packages\\pandas\\core\\generic.py:4788\u001b[39m, in \u001b[36mNDFrame.drop\u001b[39m\u001b[34m(self, labels, axis, index, columns, level, inplace, errors)\u001b[39m\n\u001b[32m   4786\u001b[39m \u001b[38;5;28;01mfor\u001b[39;00m axis, labels \u001b[38;5;129;01min\u001b[39;00m axes.items():\n\u001b[32m   4787\u001b[39m     \u001b[38;5;28;01mif\u001b[39;00m labels \u001b[38;5;129;01mis\u001b[39;00m \u001b[38;5;129;01mnot\u001b[39;00m \u001b[38;5;28;01mNone\u001b[39;00m:\n\u001b[32m-> \u001b[39m\u001b[32m4788\u001b[39m         obj = \u001b[43mobj\u001b[49m\u001b[43m.\u001b[49m\u001b[43m_drop_axis\u001b[49m\u001b[43m(\u001b[49m\u001b[43mlabels\u001b[49m\u001b[43m,\u001b[49m\u001b[43m \u001b[49m\u001b[43maxis\u001b[49m\u001b[43m,\u001b[49m\u001b[43m \u001b[49m\u001b[43mlevel\u001b[49m\u001b[43m=\u001b[49m\u001b[43mlevel\u001b[49m\u001b[43m,\u001b[49m\u001b[43m \u001b[49m\u001b[43merrors\u001b[49m\u001b[43m=\u001b[49m\u001b[43merrors\u001b[49m\u001b[43m)\u001b[49m\n\u001b[32m   4790\u001b[39m \u001b[38;5;28;01mif\u001b[39;00m inplace:\n\u001b[32m   4791\u001b[39m     \u001b[38;5;28mself\u001b[39m._update_inplace(obj)\n",
      "\u001b[36mFile \u001b[39m\u001b[32me:\\Software\\Study\\python-3.13.2\\Lib\\site-packages\\pandas\\core\\generic.py:4830\u001b[39m, in \u001b[36mNDFrame._drop_axis\u001b[39m\u001b[34m(self, labels, axis, level, errors, only_slice)\u001b[39m\n\u001b[32m   4828\u001b[39m         new_axis = axis.drop(labels, level=level, errors=errors)\n\u001b[32m   4829\u001b[39m     \u001b[38;5;28;01melse\u001b[39;00m:\n\u001b[32m-> \u001b[39m\u001b[32m4830\u001b[39m         new_axis = \u001b[43maxis\u001b[49m\u001b[43m.\u001b[49m\u001b[43mdrop\u001b[49m\u001b[43m(\u001b[49m\u001b[43mlabels\u001b[49m\u001b[43m,\u001b[49m\u001b[43m \u001b[49m\u001b[43merrors\u001b[49m\u001b[43m=\u001b[49m\u001b[43merrors\u001b[49m\u001b[43m)\u001b[49m\n\u001b[32m   4831\u001b[39m     indexer = axis.get_indexer(new_axis)\n\u001b[32m   4833\u001b[39m \u001b[38;5;66;03m# Case for non-unique axis\u001b[39;00m\n\u001b[32m   4834\u001b[39m \u001b[38;5;28;01melse\u001b[39;00m:\n",
      "\u001b[36mFile \u001b[39m\u001b[32me:\\Software\\Study\\python-3.13.2\\Lib\\site-packages\\pandas\\core\\indexes\\base.py:7070\u001b[39m, in \u001b[36mIndex.drop\u001b[39m\u001b[34m(self, labels, errors)\u001b[39m\n\u001b[32m   7068\u001b[39m \u001b[38;5;28;01mif\u001b[39;00m mask.any():\n\u001b[32m   7069\u001b[39m     \u001b[38;5;28;01mif\u001b[39;00m errors != \u001b[33m\"\u001b[39m\u001b[33mignore\u001b[39m\u001b[33m\"\u001b[39m:\n\u001b[32m-> \u001b[39m\u001b[32m7070\u001b[39m         \u001b[38;5;28;01mraise\u001b[39;00m \u001b[38;5;167;01mKeyError\u001b[39;00m(\u001b[33mf\u001b[39m\u001b[33m\"\u001b[39m\u001b[38;5;132;01m{\u001b[39;00mlabels[mask].tolist()\u001b[38;5;132;01m}\u001b[39;00m\u001b[33m not found in axis\u001b[39m\u001b[33m\"\u001b[39m)\n\u001b[32m   7071\u001b[39m     indexer = indexer[~mask]\n\u001b[32m   7072\u001b[39m \u001b[38;5;28;01mreturn\u001b[39;00m \u001b[38;5;28mself\u001b[39m.delete(indexer)\n",
      "\u001b[31mKeyError\u001b[39m: \"['accident_severity'] not found in axis\""
     ]
    }
   ],
   "source": [
    "train_and_evaluate(train_C, test_C, name='模型C：2020-2023训练，2024测试')"
   ]
  }
 ],
 "metadata": {
  "kernelspec": {
   "display_name": "Python 3",
   "language": "python",
   "name": "python3"
  },
  "language_info": {
   "codemirror_mode": {
    "name": "ipython",
    "version": 3
   },
   "file_extension": ".py",
   "mimetype": "text/x-python",
   "name": "python",
   "nbconvert_exporter": "python",
   "pygments_lexer": "ipython3",
   "version": "3.13.2"
  }
 },
 "nbformat": 4,
 "nbformat_minor": 2
}
