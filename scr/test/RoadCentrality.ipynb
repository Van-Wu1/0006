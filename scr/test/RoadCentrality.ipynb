{
 "cells": [
  {
   "cell_type": "code",
   "execution_count": null,
   "metadata": {},
   "outputs": [],
   "source": [
    "import os\n",
    "import osmnx as ox\n",
    "import networkx as nx\n",
    "import geopandas as gpd\n",
    "import pandas as pd\n",
    "from tqdm import tqdm"
   ]
  },
  {
   "cell_type": "code",
   "execution_count": null,
   "metadata": {},
   "outputs": [],
   "source": [
    "# Step 1: 读取 Borough 边界数据\n",
    "# geojson_url = \"https://services.arcgis.com/OLiydejKCZTGhvWg/arcgis/rest/services/London_Boroughs/FeatureServer/0/query?where=1%3D1&outFields=*&outSR=4326&f=geojson\"\n",
    "# boroughs = gpd.read_file(geojson_url)\n",
    "\n",
    "path = \"../data/Borough_Boundaries.geojson\"\n",
    "boroughs = gpd.read_file(path)\n",
    "\n",
    "boroughs = boroughs[[\"name\", \"gss_code\", \"geometry\"]].rename(columns={\"name\": \"borough\"})\n",
    "\n",
    "print(boroughs)\n",
    "print(boroughs.columns)"
   ]
  },
  {
   "cell_type": "code",
   "execution_count": null,
   "metadata": {},
   "outputs": [],
   "source": [
    "#设置 OSMnx 配置\n",
    "ox.settings.log_console = False\n",
    "ox.settings.use_cache = True"
   ]
  },
  {
   "cell_type": "code",
   "execution_count": null,
   "metadata": {},
   "outputs": [],
   "source": [
    "#初始化结果列表\n",
    "results = []"
   ]
  },
  {
   "cell_type": "code",
   "execution_count": null,
   "metadata": {},
   "outputs": [],
   "source": [
    "#遍历 Borough\n",
    "for idx, row in tqdm(boroughs.iterrows(), total=len(boroughs), desc=\"Processing boroughs\"):\n",
    "    borough_name = row[\"borough\"]\n",
    "    gss_name = row[\"gss_code\"]\n",
    "    geometry = row[\"geometry\"]\n",
    "\n",
    "    try:\n",
    "        print(f\"🚦 Processing: {borough_name}\")\n",
    "        \n",
    "        # 获取 borough 范围内的机动车路网\n",
    "        G = ox.graph_from_polygon(geometry, network_type=\"drive\", simplify=True)\n",
    "\n",
    "        # 节点中心性\n",
    "        betweenness = nx.betweenness_centrality(G, weight=\"length\", k=100, seed=42)\n",
    "        degree = dict(G.degree())\n",
    "        nx.set_node_attributes(G, betweenness, \"betweenness\")\n",
    "        nx.set_node_attributes(G, degree, \"degree\")\n",
    "\n",
    "        # 构造带 u-v 信息的边表\n",
    "        edge_data = []\n",
    "        for u, v, key, data in G.edges(keys=True, data=True):\n",
    "            edge_data.append({\n",
    "                \"u\": u,\n",
    "                \"v\": v,\n",
    "                \"key\": key,\n",
    "                \"geometry\": data.get(\"geometry\", None),\n",
    "                \"betweenness\": (G.nodes[u][\"betweenness\"] + G.nodes[v][\"betweenness\"]) / 2,\n",
    "                \"degree\": (G.nodes[u][\"degree\"] + G.nodes[v][\"degree\"]) / 2\n",
    "            })\n",
    "        edges_df = gpd.GeoDataFrame(edge_data, geometry=\"geometry\", crs=\"EPSG:4326\")\n",
    "\n",
    "        # 聚合\n",
    "        summary = {\n",
    "            \"borough\": borough_name,\n",
    "            \"gss_code\": gss_name,\n",
    "            \"mean_betweenness\": edges_df[\"betweenness\"].mean(),\n",
    "            \"max_betweenness\": edges_df[\"betweenness\"].max(),\n",
    "            \"mean_degree\": edges_df[\"degree\"].mean(),\n",
    "            \"max_degree\": edges_df[\"degree\"].max(),\n",
    "            \"edge_count\": len(edges_df)\n",
    "        }\n",
    "        results.append(summary)\n",
    "\n",
    "    except Exception as e:\n",
    "        print(f\"Failed for {borough_name}: {e}\")\n",
    "        continue"
   ]
  },
  {
   "cell_type": "code",
   "execution_count": null,
   "metadata": {},
   "outputs": [],
   "source": [
    "df_results = pd.DataFrame(results)\n",
    "df_results.to_csv(\"london_borough_road_centrality.csv\", index=False)"
   ]
  },
  {
   "cell_type": "code",
   "execution_count": null,
   "metadata": {},
   "outputs": [],
   "source": [
    "print(df_results)"
   ]
  }
 ],
 "metadata": {
  "kernelspec": {
   "display_name": "Python 3",
   "language": "python",
   "name": "python3"
  },
  "language_info": {
   "codemirror_mode": {
    "name": "ipython",
    "version": 3
   },
   "file_extension": ".py",
   "mimetype": "text/x-python",
   "name": "python",
   "nbconvert_exporter": "python",
   "pygments_lexer": "ipython3",
   "version": "3.13.2"
  }
 },
 "nbformat": 4,
 "nbformat_minor": 2
}
