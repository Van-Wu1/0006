{
 "cells": [
  {
   "cell_type": "code",
   "execution_count": null,
   "metadata": {},
   "outputs": [],
   "source": [
    "import pandas as pd\n",
    "from sklearn.model_selection import train_test_split\n",
    "from sklearn.ensemble import RandomForestClassifier\n",
    "from sklearn.metrics import classification_report\n",
    "import os"
   ]
  },
  {
   "cell_type": "code",
   "execution_count": null,
   "metadata": {},
   "outputs": [],
   "source": [
    "input_folder = '../data/raw'\n",
    "output_folder = '../data/clean'\n",
    "\n",
    "columns_to_keep = [\n",
    "    'accident_index', 'accident_year', 'longitude', 'latitude', 'accident_severity',\n",
    "    'date', 'day_of_week', 'time', 'local_authority_district', 'first_road_class',\n",
    "    'road_type', 'speed_limit', 'junction_detail', 'junction_control',\n",
    "    'second_road_class', 'pedestrian_crossing_human_control',\n",
    "    'pedestrian_crossing_physical_facilities', 'light_conditions',\n",
    "    'weather_conditions', 'road_surface_conditions', 'special_conditions_at_site',\n",
    "    'carriageway_hazards', 'urban_or_rural_area', 'trunk_road_flag',\n",
    "    'enhanced_severity_collision'\n",
    "]\n",
    "\n",
    "files = {\n",
    "    '2020.csv': '2020_cleaned.csv',\n",
    "    '2021.csv': '2021_cleaned.csv',\n",
    "    '2022.csv': '2022_cleaned.csv',\n",
    "    '2023.csv': '2023_cleaned.csv',\n",
    "    '2024_unvalidated.csv': '2024_cleaned.csv'\n",
    "}"
   ]
  },
  {
   "cell_type": "code",
   "execution_count": null,
   "metadata": {},
   "outputs": [],
   "source": [
    "# print(os.listdir('../data/raw'))"
   ]
  },
  {
   "cell_type": "code",
   "execution_count": null,
   "metadata": {},
   "outputs": [],
   "source": [
    "for input_file, output_file in files.items():\n",
    "    input_path = os.path.join(input_folder, input_file)\n",
    "    df = pd.read_csv(input_path)\n",
    "\n",
    "    selected_columns = [col for col in columns_to_keep if col in df.columns]\n",
    "    df_cleaned = df[selected_columns]\n",
    "\n",
    "    output_path = os.path.join(output_folder, output_file)\n",
    "    df_cleaned.to_csv(output_path, index=False)"
   ]
  }
 ],
 "metadata": {
  "kernelspec": {
   "display_name": "Python 3",
   "language": "python",
   "name": "python3"
  },
  "language_info": {
   "codemirror_mode": {
    "name": "ipython",
    "version": 3
   },
   "file_extension": ".py",
   "mimetype": "text/x-python",
   "name": "python",
   "nbconvert_exporter": "python",
   "pygments_lexer": "ipython3",
   "version": "3.13.2"
  }
 },
 "nbformat": 4,
 "nbformat_minor": 2
}
